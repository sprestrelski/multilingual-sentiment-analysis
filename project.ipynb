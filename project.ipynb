{
 "cells": [
  {
   "cell_type": "markdown",
   "metadata": {},
   "source": [
    "# Multilingual Sentiment Analysis of News Sources\n",
    "\n",
    "Idea: What are the sentiments of different news sources on the same topic? Is it different across languages? \n",
    "\n",
    "1. Rank average happiness of different news sources in different languages\n",
    "    - [Happiness of News](https://hedonometer.org/showcase/nyt/) has word lists in different languages\n",
    "    - Dataset of articles related to the topic\n",
    "    - Lookup each word in the dataset and average (?) the happiness score, need to determine metric\n",
    "    - Happiness metrics verified in diff languages since not a model, distill-BERT is predictive so maybe not accurate\n",
    "    - Languages: german/korean/spanish/russian/english/chinese/arabic/portuguese/french/ukranian\n",
    "2. Rank positivity/neutral/negativity of different news sources in different languages\n",
    "    - [HuggingFace Distill-BERT multilingual model](https://huggingface.co/lxyuan/distilbert-base-multilingual-cased-sentiments-student)\n",
    "    - Languages: en/ar/de/es/fr/ja/zh/id/hi/it/ms/pt\n"
   ]
  },
  {
   "cell_type": "markdown",
   "metadata": {},
   "source": [
    "## Dataset Collection and Cleaning"
   ]
  },
  {
   "cell_type": "code",
   "execution_count": null,
   "metadata": {},
   "outputs": [],
   "source": [
    "# setup notebook\n",
    "import pandas as pd;\n",
    "from langdetect import detect\n",
    "from googletrans import Translator\n",
    "\n",
    "path = \"./World_Politics_News/World_Politics_News.csv\"\n",
    "df = pd.read_csv(path)\n",
    "df.head()"
   ]
  },
  {
   "cell_type": "code",
   "execution_count": 7,
   "metadata": {},
   "outputs": [],
   "source": [
    "# detect language of article\n",
    "def detect_language_langdetect(text):\n",
    "    try:\n",
    "        detected_language = detect(text)\n",
    "        return detected_language\n",
    "    except Exception as e:\n",
    "        print(\"An error occurred:\", e)\n",
    "        return None\n",
    "\n",
    "df[\"language\"] = df[\"title\"].apply(detect_language_langdetect)"
   ]
  },
  {
   "cell_type": "code",
   "execution_count": 59,
   "metadata": {},
   "outputs": [
    {
     "name": "stdout",
     "output_type": "stream",
     "text": [
      "['de', 'en', 'fr', 'ko', 'es', 'th']\n",
      "language\n",
      "de       1162\n",
      "en        417\n",
      "fr        322\n",
      "ko        317\n",
      "es        224\n",
      "th        116\n",
      "hr         96\n",
      "el         75\n",
      "ru         62\n",
      "ro         51\n",
      "pt         27\n",
      "nl         18\n",
      "zh-tw      12\n",
      "ja          9\n",
      "af          6\n",
      "ca          4\n",
      "no          4\n",
      "pl          3\n",
      "da          2\n",
      "it          2\n",
      "et          1\n",
      "sl          1\n",
      "he          1\n",
      "bg          1\n",
      "Name: count, dtype: int64\n"
     ]
    }
   ],
   "source": [
    "# filter to only languages with more than 100 articles\n",
    "lang_counts = df[\"language\"].value_counts()\n",
    "geq50_lang = lang_counts[lang_counts >= 100].index.tolist()\n",
    "lang_df = df[df[\"language\"].isin(geq50_lang)]\n",
    "print(geq50_lang)\n",
    "print(lang_counts)\n",
    "# german, english, french, korean, spanish, thai, croatian, greek, russian, romanian] "
   ]
  },
  {
   "cell_type": "code",
   "execution_count": 60,
   "metadata": {},
   "outputs": [
    {
     "data": {
      "text/plain": [
       "language\n",
       "de    350\n",
       "fr    322\n",
       "ko    317\n",
       "es    224\n",
       "th    116\n",
       "Name: count, dtype: int64"
      ]
     },
     "execution_count": 60,
     "metadata": {},
     "output_type": "execute_result"
    }
   ],
   "source": [
    "# resample dataset\n",
    "df_de = lang_df[lang_df['language'] == 'de']\n",
    "df_sampled_de = df_de.sample(n=350, random_state=42)\n",
    "df_en = lang_df[lang_df['language'] == 'en']\n",
    "df_sampled_en = df_en.sample(n=350, random_state=42)\n",
    "df_remaining = lang_df[(lang_df['language'] != 'de') & (lang_df['language'] != 'en')]\n",
    "# we don't need to translate the english ones to english :D\n",
    "df_resampled = pd.concat([df_sampled_de, df_remaining])\n",
    "df_resampled[\"language\"].value_counts()"
   ]
  },
  {
   "cell_type": "code",
   "execution_count": 47,
   "metadata": {},
   "outputs": [],
   "source": [
    "# translate titles and descriptions\n",
    "translator = Translator()\n",
    "titles = df_resampled[\"title\"].tolist()\n",
    "descriptions = df_resampled[\"description\"].tolist()\n",
    "\n",
    "translated_titles = translator.translate(titles, dest='en')\n",
    "translated_desc = translator.translate(descriptions, dest='en')\n",
    "# grab text itself\n",
    "english_titles = [tra.text for tra in translated_titles]\n",
    "english_desc = [tra.text for tra in translated_desc]"
   ]
  },
  {
   "cell_type": "code",
   "execution_count": 68,
   "metadata": {},
   "outputs": [
    {
     "data": {
      "text/html": [
       "<div>\n",
       "<style scoped>\n",
       "    .dataframe tbody tr th:only-of-type {\n",
       "        vertical-align: middle;\n",
       "    }\n",
       "\n",
       "    .dataframe tbody tr th {\n",
       "        vertical-align: top;\n",
       "    }\n",
       "\n",
       "    .dataframe thead th {\n",
       "        text-align: right;\n",
       "    }\n",
       "</style>\n",
       "<table border=\"1\" class=\"dataframe\">\n",
       "  <thead>\n",
       "    <tr style=\"text-align: right;\">\n",
       "      <th></th>\n",
       "      <th>title</th>\n",
       "      <th>link</th>\n",
       "      <th>keywords</th>\n",
       "      <th>creator</th>\n",
       "      <th>video_url</th>\n",
       "      <th>description</th>\n",
       "      <th>content</th>\n",
       "      <th>pubDate</th>\n",
       "      <th>full_description</th>\n",
       "      <th>image_url</th>\n",
       "      <th>source_id</th>\n",
       "      <th>language</th>\n",
       "      <th>en_title</th>\n",
       "      <th>en_description</th>\n",
       "    </tr>\n",
       "  </thead>\n",
       "  <tbody>\n",
       "    <tr>\n",
       "      <th>683</th>\n",
       "      <td>Die große Kimmich-Debatte - Impf-Ruck statt Im...</td>\n",
       "      <td>https://www.bild.de/politik/inland/politik-inl...</td>\n",
       "      <td>['Politik-Inland', 'Corona-Impfung', 'Coronavi...</td>\n",
       "      <td>NaN</td>\n",
       "      <td>NaN</td>\n",
       "      <td>Bayern-Star Kimmich hat mit seinem Nicht-Geimp...</td>\n",
       "      <td>NaN</td>\n",
       "      <td>2021-10-25 20:14:44</td>\n",
       "      <td>Bayern-Star Joshua Kimmich (26) hat mit seinem...</td>\n",
       "      <td>https://bilder.bild.de/fotos-skaliert/die-gros...</td>\n",
       "      <td>bild</td>\n",
       "      <td>de</td>\n",
       "      <td>The big Kimmich debate - vaccination rush inst...</td>\n",
       "      <td>Bayern star Kimmich has sparked a huge debate ...</td>\n",
       "    </tr>\n",
       "    <tr>\n",
       "      <th>194</th>\n",
       "      <td>Nach Putsch im Sudan: UN-Sicherheitsrat kommt ...</td>\n",
       "      <td>https://www.faz.net/aktuell/nach-putsch-im-sud...</td>\n",
       "      <td>NaN</td>\n",
       "      <td>NaN</td>\n",
       "      <td>NaN</td>\n",
       "      <td>Nach dem Putsch im Sudan schießen Soldaten auf...</td>\n",
       "      <td>NaN</td>\n",
       "      <td>2021-10-26 06:04:07</td>\n",
       "      <td>N ach dem Putsch im Sudan will der UN-Sicherhe...</td>\n",
       "      <td>NaN</td>\n",
       "      <td>faz</td>\n",
       "      <td>de</td>\n",
       "      <td>After coup in Sudan: UN Security Council meets...</td>\n",
       "      <td>After the coup in Sudan, soldiers shoot at dem...</td>\n",
       "    </tr>\n",
       "    <tr>\n",
       "      <th>2747</th>\n",
       "      <td>An deutsch-polnischer Grenze - Rechtsextreme m...</td>\n",
       "      <td>https://www.bild.de/politik/inland/politik-inl...</td>\n",
       "      <td>['Politik-Inland', 'Guben', 'Migrationspolitik...</td>\n",
       "      <td>NaN</td>\n",
       "      <td>NaN</td>\n",
       "      <td>Die Polizei sprach Platzverweise für die selbs...</td>\n",
       "      <td>NaN</td>\n",
       "      <td>2021-10-24 12:41:35</td>\n",
       "      <td>Großer Einsatz gegen selbsternannte rechtsextr...</td>\n",
       "      <td>https://bilder.bild.de/fotos-skaliert/an-deuts...</td>\n",
       "      <td>bild</td>\n",
       "      <td>de</td>\n",
       "      <td>On the German-Polish border - right-wing extre...</td>\n",
       "      <td>The police expelled the self-proclaimed “borde...</td>\n",
       "    </tr>\n",
       "    <tr>\n",
       "      <th>1425</th>\n",
       "      <td>Polizeigewerkschafts-Chef - „Bundesregierung m...</td>\n",
       "      <td>https://www.bild.de/politik/2021/politik/poliz...</td>\n",
       "      <td>['Politik']</td>\n",
       "      <td>NaN</td>\n",
       "      <td>NaN</td>\n",
       "      <td>Die Lage an der polnischen Grenze ist dramatis...</td>\n",
       "      <td>NaN</td>\n",
       "      <td>2021-10-25 10:55:28</td>\n",
       "      <td>Die Lage an der deutsch-polnischen Grenze ist ...</td>\n",
       "      <td>https://bilder.bild.de/fotos-skaliert/polizeig...</td>\n",
       "      <td>bild</td>\n",
       "      <td>de</td>\n",
       "      <td>Police union boss - “Federal government must a...</td>\n",
       "      <td>The situation at the Polish border is dramatic...</td>\n",
       "    </tr>\n",
       "    <tr>\n",
       "      <th>1841</th>\n",
       "      <td>Berlin: Nach tödlichem Tram-Unfall – Gaffer ma...</td>\n",
       "      <td>https://www.t-online.de/region/berlin/news/id_...</td>\n",
       "      <td>NaN</td>\n",
       "      <td>NaN</td>\n",
       "      <td>NaN</td>\n",
       "      <td>Schreckliche Bilder aus Berlin: Eine Straßenba...</td>\n",
       "      <td>NaN</td>\n",
       "      <td>2021-10-25 06:43:08</td>\n",
       "      <td>NaN</td>\n",
       "      <td>https://bilder.t-online.de/b/91/02/33/46/id_91...</td>\n",
       "      <td>t-online</td>\n",
       "      <td>de</td>\n",
       "      <td>Berlin: After fatal tram accident – ​​gawkers ...</td>\n",
       "      <td>Horrible pictures from Berlin: A tram hits a T...</td>\n",
       "    </tr>\n",
       "  </tbody>\n",
       "</table>\n",
       "</div>"
      ],
      "text/plain": [
       "                                                  title  \\\n",
       "683   Die große Kimmich-Debatte - Impf-Ruck statt Im...   \n",
       "194   Nach Putsch im Sudan: UN-Sicherheitsrat kommt ...   \n",
       "2747  An deutsch-polnischer Grenze - Rechtsextreme m...   \n",
       "1425  Polizeigewerkschafts-Chef - „Bundesregierung m...   \n",
       "1841  Berlin: Nach tödlichem Tram-Unfall – Gaffer ma...   \n",
       "\n",
       "                                                   link  \\\n",
       "683   https://www.bild.de/politik/inland/politik-inl...   \n",
       "194   https://www.faz.net/aktuell/nach-putsch-im-sud...   \n",
       "2747  https://www.bild.de/politik/inland/politik-inl...   \n",
       "1425  https://www.bild.de/politik/2021/politik/poliz...   \n",
       "1841  https://www.t-online.de/region/berlin/news/id_...   \n",
       "\n",
       "                                               keywords creator  video_url  \\\n",
       "683   ['Politik-Inland', 'Corona-Impfung', 'Coronavi...     NaN        NaN   \n",
       "194                                                 NaN     NaN        NaN   \n",
       "2747  ['Politik-Inland', 'Guben', 'Migrationspolitik...     NaN        NaN   \n",
       "1425                                        ['Politik']     NaN        NaN   \n",
       "1841                                                NaN     NaN        NaN   \n",
       "\n",
       "                                            description content  \\\n",
       "683   Bayern-Star Kimmich hat mit seinem Nicht-Geimp...     NaN   \n",
       "194   Nach dem Putsch im Sudan schießen Soldaten auf...     NaN   \n",
       "2747  Die Polizei sprach Platzverweise für die selbs...     NaN   \n",
       "1425  Die Lage an der polnischen Grenze ist dramatis...     NaN   \n",
       "1841  Schreckliche Bilder aus Berlin: Eine Straßenba...     NaN   \n",
       "\n",
       "                  pubDate                                   full_description  \\\n",
       "683   2021-10-25 20:14:44  Bayern-Star Joshua Kimmich (26) hat mit seinem...   \n",
       "194   2021-10-26 06:04:07  N ach dem Putsch im Sudan will der UN-Sicherhe...   \n",
       "2747  2021-10-24 12:41:35  Großer Einsatz gegen selbsternannte rechtsextr...   \n",
       "1425  2021-10-25 10:55:28  Die Lage an der deutsch-polnischen Grenze ist ...   \n",
       "1841  2021-10-25 06:43:08                                                NaN   \n",
       "\n",
       "                                              image_url source_id language  \\\n",
       "683   https://bilder.bild.de/fotos-skaliert/die-gros...      bild       de   \n",
       "194                                                 NaN       faz       de   \n",
       "2747  https://bilder.bild.de/fotos-skaliert/an-deuts...      bild       de   \n",
       "1425  https://bilder.bild.de/fotos-skaliert/polizeig...      bild       de   \n",
       "1841  https://bilder.t-online.de/b/91/02/33/46/id_91...  t-online       de   \n",
       "\n",
       "                                               en_title  \\\n",
       "683   The big Kimmich debate - vaccination rush inst...   \n",
       "194   After coup in Sudan: UN Security Council meets...   \n",
       "2747  On the German-Polish border - right-wing extre...   \n",
       "1425  Police union boss - “Federal government must a...   \n",
       "1841  Berlin: After fatal tram accident – ​​gawkers ...   \n",
       "\n",
       "                                         en_description  \n",
       "683   Bayern star Kimmich has sparked a huge debate ...  \n",
       "194   After the coup in Sudan, soldiers shoot at dem...  \n",
       "2747  The police expelled the self-proclaimed “borde...  \n",
       "1425  The situation at the Polish border is dramatic...  \n",
       "1841  Horrible pictures from Berlin: A tram hits a T...  "
      ]
     },
     "execution_count": 68,
     "metadata": {},
     "output_type": "execute_result"
    }
   ],
   "source": [
    "# add back into dataframe\n",
    "df_resampled[\"en_title\"] = english_titles\n",
    "df_resampled[\"en_description\"] = english_desc\n",
    "df_sampled_en[\"en_title\"] = df_sampled_en[\"title\"]\n",
    "df_sampled_en[\"en_description\"] = df_sampled_en[\"description\"]\n",
    "df_final = pd.concat([df_resampled, df_sampled_en])\n",
    "df_final.head(5)"
   ]
  },
  {
   "cell_type": "markdown",
   "metadata": {},
   "source": [
    "English, German, French, Korean, Spanish, and Thai languagess"
   ]
  },
  {
   "cell_type": "code",
   "execution_count": 69,
   "metadata": {},
   "outputs": [],
   "source": [
    "df_final.to_csv(\"./World_Politics_News/WPNews.csv\")"
   ]
  },
  {
   "cell_type": "markdown",
   "metadata": {},
   "source": [
    "## Happiness of News Analysis"
   ]
  },
  {
   "cell_type": "code",
   "execution_count": null,
   "metadata": {},
   "outputs": [],
   "source": []
  },
  {
   "cell_type": "markdown",
   "metadata": {},
   "source": [
    "## Sentiment Analysis"
   ]
  },
  {
   "cell_type": "code",
   "execution_count": 70,
   "metadata": {},
   "outputs": [
    {
     "name": "stderr",
     "output_type": "stream",
     "text": [
      "e:\\home\\saman\\Documents\\GitHub\\ltcs180\\.venv\\lib\\site-packages\\tqdm\\auto.py:21: TqdmWarning: IProgress not found. Please update jupyter and ipywidgets. See https://ipywidgets.readthedocs.io/en/stable/user_install.html\n",
      "  from .autonotebook import tqdm as notebook_tqdm\n"
     ]
    }
   ],
   "source": [
    "from transformers import pipeline\n",
    "df_final = pd.read_csv(\"\")\n",
    "distilled_student_sentiment_classifier = pipeline(\n",
    "    model=\"lxyuan/distilbert-base-multilingual-cased-sentiments-student\", \n",
    "    return_all_scores=True\n",
    ")"
   ]
  },
  {
   "cell_type": "code",
   "execution_count": 94,
   "metadata": {},
   "outputs": [
    {
     "data": {
      "text/plain": [
       "Index(['title', 'link', 'keywords', 'creator', 'video_url', 'description',\n",
       "       'content', 'pubDate', 'full_description', 'image_url', 'source_id',\n",
       "       'language', 'en_title', 'en_description'],\n",
       "      dtype='object')"
      ]
     },
     "execution_count": 94,
     "metadata": {},
     "output_type": "execute_result"
    }
   ],
   "source": [
    "# filter to languages in distilbert\n",
    "distil_langs = ['de','fr', 'es']\n",
    "df_subset = df_final[df_final[\"language\"].isin(distil_langs)]\n",
    "\n",
    "# remove descriptions over 512 characters for distilbert predictions\n",
    "mask = df_subset['description'].str.len() > 512\n",
    "df_filtered = df_subset[~mask]\n",
    "df_filtered.dropna(subset=['description'], inplace=True)\n"
   ]
  },
  {
   "cell_type": "code",
   "execution_count": null,
   "metadata": {},
   "outputs": [],
   "source": [
    "orig_title = df_filtered[\"title\"].to_list()\n",
    "en_title = df_filtered[\"en_title\"].to_list()\n",
    "orig_desc = df_filtered[\"description\"].to_list()\n",
    "en_desc = df_filtered[\"en_description\"].to_list()\n",
    "\n",
    "sentiments_orig_title = [distilled_student_sentiment_classifier(d) for d in orig_title]\n",
    "sentiments_en_title = [distilled_student_sentiment_classifier(d) for d in en_title]\n",
    "sentiments_orig_desc = [distilled_student_sentiment_classifier(d) for d in orig_desc]\n",
    "sentiments_en_desc = [distilled_student_sentiment_classifier(d) for d in en_desc]"
   ]
  },
  {
   "cell_type": "code",
   "execution_count": 96,
   "metadata": {},
   "outputs": [],
   "source": [
    "def list2txt(list_arr, file_path):\n",
    "    with open(file_path, 'w') as file:\n",
    "        for item in list_arr:\n",
    "            file.write('%s\\n' % item)\n",
    "list2txt(sentiments_orig_title, \"sentiments_orig_title.txt\")\n",
    "list2txt(sentiments_en_title, \"sentiments_en_title.txt\")\n",
    "list2txt(sentiments_orig_desc, \"sentiments_orig_desc.txt\")\n",
    "list2txt(sentiments_en_desc, \"sentiments_en_desc.txt\")"
   ]
  }
 ],
 "metadata": {
  "kernelspec": {
   "display_name": ".venv",
   "language": "python",
   "name": "python3"
  },
  "language_info": {
   "codemirror_mode": {
    "name": "ipython",
    "version": 3
   },
   "file_extension": ".py",
   "mimetype": "text/x-python",
   "name": "python",
   "nbconvert_exporter": "python",
   "pygments_lexer": "ipython3",
   "version": "3.9.13"
  }
 },
 "nbformat": 4,
 "nbformat_minor": 2
}
